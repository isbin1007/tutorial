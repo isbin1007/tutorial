{
  "cells": [
    {
      "cell_type": "code",
      "source": [
        "import nltk\n",
        "nltk.download('punkt')\n",
        "nltk.download('stopwords')\n",
        "from nltk.corpus import stopwords\n",
        "from nltk.tokenize import word_tokenize"
      ],
      "metadata": {
        "colab": {
          "base_uri": "https://localhost:8080/"
        },
        "id": "-poMhhp0Yd_z",
        "outputId": "7a990856-4139-4c60-b1f1-c9428b87c05b"
      },
      "execution_count": null,
      "outputs": [
        {
          "output_type": "stream",
          "name": "stderr",
          "text": [
            "[nltk_data] Downloading package punkt to /root/nltk_data...\n",
            "[nltk_data]   Unzipping tokenizers/punkt.zip.\n",
            "[nltk_data] Downloading package stopwords to /root/nltk_data...\n",
            "[nltk_data]   Unzipping corpora/stopwords.zip.\n"
          ]
        }
      ]
    },
    {
      "cell_type": "code",
      "source": [
        "input_sentence = \"We should all study hard for the exam\"\n",
        "print(f\"{input_sentence}\")"
      ],
      "metadata": {
        "colab": {
          "base_uri": "https://localhost:8080/"
        },
        "id": "aqlEugJ6xZQN",
        "outputId": "eaf8bf49-ada5-4f7f-f19c-62c0d1fcfc3e"
      },
      "execution_count": null,
      "outputs": [
        {
          "output_type": "stream",
          "name": "stdout",
          "text": [
            "We should all study hard for the exam\n"
          ]
        }
      ]
    },
    {
      "cell_type": "code",
      "source": [
        "stop_words = set(stopwords.words('english'))\n",
        "word_tokens = word_tokenize(input_sentence)\n",
        "result = []\n",
        "for w in word_tokens:\n",
        "  if w not in stop_words:\n",
        "    result.append(w)\n",
        "print(word_tokens)\n",
        "print(result)"
      ],
      "metadata": {
        "id": "t56lSW95yDhE",
        "colab": {
          "base_uri": "https://localhost:8080/"
        },
        "outputId": "41561374-bddc-4fb8-88ba-b0be29ba47ae"
      },
      "execution_count": null,
      "outputs": [
        {
          "output_type": "stream",
          "name": "stdout",
          "text": [
            "['We', 'should', 'all', 'study', 'hard', 'for', 'the', 'exam']\n",
            "['We', 'study', 'hard', 'exam']\n"
          ]
        }
      ]
    },
    {
      "cell_type": "code",
      "source": [
        "# 불용어 처리\n",
        "import nltk\n",
        "nltk.download('punkt')\n",
        "nltk.download('stopwords')\n",
        "from nltk.corpus import stopwords\n",
        "from nltk.tokenize import word_tokenize"
      ],
      "metadata": {
        "id": "9I7e6WjN6-Ct",
        "colab": {
          "base_uri": "https://localhost:8080/"
        },
        "outputId": "5b0a66bc-2417-42ab-91ad-2501f7a71932"
      },
      "execution_count": null,
      "outputs": [
        {
          "output_type": "stream",
          "name": "stderr",
          "text": [
            "[nltk_data] Downloading package punkt to /root/nltk_data...\n",
            "[nltk_data]   Package punkt is already up-to-date!\n",
            "[nltk_data] Downloading package stopwords to /root/nltk_data...\n",
            "[nltk_data]   Unzipping corpora/stopwords.zip.\n"
          ]
        }
      ]
    },
    {
      "cell_type": "code",
      "source": [
        "input_sentence = \"We should all study hard for the exam\"\n",
        "stop_words = set(stopwords.words('english'))\n",
        "word_tokens = word_tokenize(input_sentence)\n",
        "result = []\n",
        "for w in word_tokens:\n",
        "  if w not in stop_words:\n",
        "    result.append(w)\n",
        "print(word_tokens)\n",
        "print(result)"
      ],
      "metadata": {
        "colab": {
          "base_uri": "https://localhost:8080/"
        },
        "id": "IyFnFFjLc4wV",
        "outputId": "85a3b480-dc0b-4cf0-efee-5453e785c1a2"
      },
      "execution_count": null,
      "outputs": [
        {
          "output_type": "stream",
          "name": "stdout",
          "text": [
            "['We', 'should', 'all', 'study', 'hard', 'for', 'the', 'exam']\n",
            "['We', 'study', 'hard', 'exam']\n"
          ]
        }
      ]
    },
    {
      "cell_type": "code",
      "source": [
        "mylist = ['English', 'Mash', 'Science']\n",
        "for n, name in enumerate(mylist):\n",
        "  print(\"Course : {0}, Number : {1}\".format(name, n))"
      ],
      "metadata": {
        "colab": {
          "base_uri": "https://localhost:8080/"
        },
        "id": "BfXOL53Pdd4Q",
        "outputId": "d76a56ac-6abf-434b-88f3-ebff1ea75ce3"
      },
      "execution_count": null,
      "outputs": [
        {
          "output_type": "stream",
          "name": "stdout",
          "text": [
            "Course : English, Number : 0\n",
            "Course : Mash, Number : 1\n",
            "Course : Science, Number : 2\n"
          ]
        }
      ]
    },
    {
      "cell_type": "code",
      "source": [
        "vocab = {'apple':2, 'july':6, 'piano':4, 'cup':8, 'orange':1}\n",
        "vocab_sort = sorted(vocab.items(), key = lambda x:x[1], reverse=True)\n",
        "print(vocab_sort)\n",
        "word2inx = {word[0] : index + 1 for index, word in enumerate(vocab_sort)}\n",
        "print(word2inx)"
      ],
      "metadata": {
        "colab": {
          "base_uri": "https://localhost:8080/"
        },
        "id": "NuN14qWsfD-X",
        "outputId": "c962a563-04fa-4ee6-c193-eab2c55dbf33"
      },
      "execution_count": null,
      "outputs": [
        {
          "output_type": "stream",
          "name": "stdout",
          "text": [
            "[('orange', 1), ('apple', 2), ('piano', 4), ('july', 6), ('cup', 8)]\n",
            "{'orange': 1, 'apple': 2, 'piano': 3, 'july': 4, 'cup': 5}\n"
          ]
        }
      ]
    },
    {
      "cell_type": "code",
      "source": [
        "# 문장 -> 토큰화 -> 정제_추출 -> 인코딩(정수)\n",
        "# BoW 생성, 정수 인코딩\n",
        "from nltk.tokenize import TreebankWordTokenizer\n",
        "tokenizer = TreebankWordTokenizer()\n",
        "text = \"Model-based RL don't need a value function for the policy. \" \\\n",
        "        \"but some of Model-based RL algorithms do have a value function.\"\n",
        "token_text = tokenizer.tokenize(text)\n",
        "word2inx = {}\n",
        "Bow = []\n",
        "for word in token_text:\n",
        "  if word not in word2inx.keys():\n",
        "    word2inx[word] = len(word2inx)\n",
        "    Bow.insert(len(word2inx)-1, 1)\n",
        "  else:\n",
        "    inx = word2inx.get(word)\n",
        "    Bow[inx] += 1\n",
        "print(word2inx)\n",
        "print(Bow)\n"
      ],
      "metadata": {
        "id": "dppGycBFiPJu",
        "colab": {
          "base_uri": "https://localhost:8080/"
        },
        "outputId": "e7d83755-e7ca-4224-cab1-eff6aceb61ab"
      },
      "execution_count": 31,
      "outputs": [
        {
          "output_type": "stream",
          "name": "stdout",
          "text": [
            "{'Model-based': 0, 'RL': 1, 'do': 2, \"n't\": 3, 'need': 4, 'a': 5, 'value': 6, 'function': 7, 'for': 8, 'the': 9, 'policy.': 10, 'but': 11, 'some': 12, 'of': 13, 'algorithms': 14, 'have': 15, '.': 16}\n",
            "[2, 2, 2, 1, 1, 2, 2, 2, 1, 1, 1, 1, 1, 1, 1, 1, 1]\n"
          ]
        }
      ]
    },
    {
      "cell_type": "code",
      "source": [
        "# 코사인 유사도\n",
        "import numpy as np\n",
        "def cos_sim(A, B):\n",
        "  return np.dot(A, B) / (np.linalg.norm(A)*np.linalg.norm(B))\n",
        "\n",
        "a = [1, 0, 0, 1]\n",
        "b = [0, 1, 1, 0]\n",
        "c = [1, 1, 1, 1]\n",
        "print(cos_sim(a,b), cos_sim(b, c), cos_sim(c,a))\n"
      ],
      "metadata": {
        "colab": {
          "base_uri": "https://localhost:8080/"
        },
        "id": "7JP3-EpfwXp8",
        "outputId": "a800ed3d-54ea-45cf-99fe-88d88f9b129a"
      },
      "execution_count": 34,
      "outputs": [
        {
          "output_type": "stream",
          "name": "stdout",
          "text": [
            "0.0 0.7071067811865475 0.7071067811865475\n"
          ]
        }
      ]
    },
    {
      "cell_type": "code",
      "source": [
        "import numpy as np\n",
        "def leven(text1, text2):\n",
        "  len1 = len(text1) + 1\n",
        "  len2 = len(text2) + 1\n",
        "  sim_array = np.zeros((len1, len2))\n",
        "  sim_array[:, 0] = np.linspace(0, len1-1, len1)\n",
        "  sim_array[0, :] = np.linspace(0, len2-1, len2)\n",
        "\n",
        "  print('sim_array : {}'.format(sim_array[1, 1]))\n",
        "  for i in range(1, len1):\n",
        "    for j in range(1, len2):\n",
        "      add_char = sim_array[i-1, j] + 1\n",
        "      sub_char = sim_array[i, j-1] + 1\n",
        "\n",
        "      #print('add_char : {}, sub_char : {}' .format(add_char, sub_char) )\n",
        "\n",
        "      if text1[i-1] == text2[j-1]:\n",
        "        mod_char = sim_array[i-1, j-1]\n",
        "      else:\n",
        "        mod_char = sim_array[i-1, j-1] + 1\n",
        "\n",
        "      print('mod_char : {}' .format(mod_char))\n",
        "\n",
        "      sim_array[i,j] = min([add_char, sub_char, mod_char])\n",
        "      print('under sim_array : {}, i : {}, j : {}'.format(sim_array[i,j], i, j))\n",
        "\n",
        "  return sim_array[-1, -1]\n",
        "print(leven('데이터마이닝', '데이타마닝'))\n"
      ],
      "metadata": {
        "id": "ld8UMz8RynrK",
        "outputId": "066ebaab-4a66-4f51-f1cc-75afc41e2117",
        "colab": {
          "base_uri": "https://localhost:8080/"
        }
      },
      "execution_count": 44,
      "outputs": [
        {
          "output_type": "stream",
          "name": "stdout",
          "text": [
            "sim_array : 0.0\n",
            "mod_char : 0.0\n",
            "under sim_array : 0.0, i : 1, j : 1\n",
            "mod_char : 2.0\n",
            "under sim_array : 1.0, i : 1, j : 2\n",
            "mod_char : 3.0\n",
            "under sim_array : 2.0, i : 1, j : 3\n",
            "mod_char : 4.0\n",
            "under sim_array : 3.0, i : 1, j : 4\n",
            "mod_char : 5.0\n",
            "under sim_array : 4.0, i : 1, j : 5\n",
            "mod_char : 2.0\n",
            "under sim_array : 1.0, i : 2, j : 1\n",
            "mod_char : 0.0\n",
            "under sim_array : 0.0, i : 2, j : 2\n",
            "mod_char : 2.0\n",
            "under sim_array : 1.0, i : 2, j : 3\n",
            "mod_char : 3.0\n",
            "under sim_array : 2.0, i : 2, j : 4\n",
            "mod_char : 4.0\n",
            "under sim_array : 3.0, i : 2, j : 5\n",
            "mod_char : 3.0\n",
            "under sim_array : 2.0, i : 3, j : 1\n",
            "mod_char : 2.0\n",
            "under sim_array : 1.0, i : 3, j : 2\n",
            "mod_char : 1.0\n",
            "under sim_array : 1.0, i : 3, j : 3\n",
            "mod_char : 2.0\n",
            "under sim_array : 2.0, i : 3, j : 4\n",
            "mod_char : 3.0\n",
            "under sim_array : 3.0, i : 3, j : 5\n",
            "mod_char : 4.0\n",
            "under sim_array : 3.0, i : 4, j : 1\n",
            "mod_char : 3.0\n",
            "under sim_array : 2.0, i : 4, j : 2\n",
            "mod_char : 2.0\n",
            "under sim_array : 2.0, i : 4, j : 3\n",
            "mod_char : 1.0\n",
            "under sim_array : 1.0, i : 4, j : 4\n",
            "mod_char : 3.0\n",
            "under sim_array : 2.0, i : 4, j : 5\n",
            "mod_char : 5.0\n",
            "under sim_array : 4.0, i : 5, j : 1\n",
            "mod_char : 3.0\n",
            "under sim_array : 3.0, i : 5, j : 2\n",
            "mod_char : 3.0\n",
            "under sim_array : 3.0, i : 5, j : 3\n",
            "mod_char : 3.0\n",
            "under sim_array : 2.0, i : 5, j : 4\n",
            "mod_char : 2.0\n",
            "under sim_array : 2.0, i : 5, j : 5\n",
            "mod_char : 6.0\n",
            "under sim_array : 5.0, i : 6, j : 1\n",
            "mod_char : 5.0\n",
            "under sim_array : 4.0, i : 6, j : 2\n",
            "mod_char : 4.0\n",
            "under sim_array : 4.0, i : 6, j : 3\n",
            "mod_char : 4.0\n",
            "under sim_array : 3.0, i : 6, j : 4\n",
            "mod_char : 2.0\n",
            "under sim_array : 2.0, i : 6, j : 5\n",
            "2.0\n"
          ]
        }
      ]
    },
    {
      "cell_type": "code",
      "source": [],
      "metadata": {
        "id": "M4I_kZb839KJ"
      },
      "execution_count": null,
      "outputs": []
    },
    {
      "cell_type": "code",
      "source": [],
      "metadata": {
        "id": "NQ6qGuMe0cMB"
      },
      "execution_count": null,
      "outputs": []
    }
  ],
  "metadata": {
    "colab": {
      "name": "Colab 구독 최대한 활용하기",
      "provenance": []
    },
    "kernelspec": {
      "display_name": "Python 3",
      "name": "python3"
    }
  },
  "nbformat": 4,
  "nbformat_minor": 0
}